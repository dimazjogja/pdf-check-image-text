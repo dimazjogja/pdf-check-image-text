{
 "cells": [
  {
   "cell_type": "code",
   "execution_count": 1,
   "metadata": {},
   "outputs": [
    {
     "name": "stdout",
     "output_type": "stream",
     "text": [
      "The PDF contains copyable text.\n",
      "The PDF does not contain copyable text.\n"
     ]
    }
   ],
   "source": [
    "from pypdf import PdfReader\n",
    "def check_text_extractable(pdf_path):\n",
    "    try:\n",
    "        pdf_document = PdfReader(pdf_path)\n",
    "        for page in pdf_document.pages:\n",
    "            text = page.extract_text()\n",
    "            if text and text.strip():  # If there's text on the page\n",
    "                return True\n",
    "        return False\n",
    "    except Exception as e:\n",
    "        print(f\"Error occurred: {e}\")\n",
    "        return False\n",
    "    \n",
    "# Example usage\n",
    "pdf_path = \"search engine pricing with simulations 1.pdf\"\n",
    "if check_text_extractable(pdf_path):\n",
    "    print(\"The PDF contains copyable text.\")\n",
    "else:\n",
    "    print(\"The PDF does not contain copyable text.\")\n",
    "    \n",
    "# Example usage\n",
    "pdf_path = \"search engine pricing with simulations 1 uncopiable.pdf\"\n",
    "if check_text_extractable(pdf_path):\n",
    "    print(\"The PDF contains copyable text.\")\n",
    "else:\n",
    "    print(\"The PDF does not contain copyable text.\")"
   ]
  }
 ],
 "metadata": {
  "language_info": {
   "name": "python"
  }
 },
 "nbformat": 4,
 "nbformat_minor": 2
}
